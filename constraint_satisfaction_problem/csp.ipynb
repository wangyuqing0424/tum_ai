{
 "cells": [
  {
   "cell_type": "markdown",
   "id": "e9675f9a",
   "metadata": {},
   "source": [
    "# Programming Exercise 2: Constraint Satisfaction Problem"
   ]
  },
  {
   "cell_type": "markdown",
   "id": "8f92f3ed",
   "metadata": {},
   "source": [
    "## Your task\n",
    "This programming exercise is comprised of two parts: \n",
    "1) Demo notebook (`csp_demo.ipynb`): a demonstration on how to use the solver powered by the aima-python project to solve basic constraint satisfaction problems.\n",
    "   \n",
    "2) **This Exercise notebook (`csp.ipynb`): notebook to implement and submit your solution for the CSP programming exercise \"Organizing Water Sports\"**\n",
    "\n"
   ]
  },
  {
   "cell_type": "markdown",
   "id": "a8742a5c",
   "metadata": {},
   "source": [
    "**Programming Framework**:\n",
    "\n",
    "For this programming exercise, Jupyter Notebooks will be used. The template for the exercise can be\n",
    "found in ARTEMIS. Since you have to model the constraint satisfaction problem, programming skills in\n",
    "Python lambdas, lists and dictionaries are necessary to complete this exercise.\n",
    "An example of how to model a constraint satisfaction problem using the AIMA is provided in the notebook **csp\\_demo.ipynb**. This example is taken from Exercise 3.4. \n",
    "\n",
    "The following steps are required to correctly set up the environment for the programming exercise and submission:\n",
    "1. **Installation of AIMA**: Work through [AIMA installation instructions on Moodle](https://www.moodle.tum.de/mod/page/view.php?id=2323882) (Using Docker is recommended for beginners)\n",
    "2. **ARTEMIS**: Log into [ARTEMIS](https://artemis.ase.in.tum.de/courses/222/exercises) with your TUM credentials. Find the exercise *Constraint Satisfaction Problems* and follow the installation and submission instructions.\n",
    "\n",
    "After completing the above steps, you are all set up to start with the exercise. **The main function of\n",
    "the template is the Jupyter Notebook csp.ipynb.** Your task is to model the water sports organization problem.\n",
    "\n",
    "**A pass will be awarded only if:**\n",
    "1. you submitted the **correct file** with the **correct name**, as shown above.\n",
    "2. you **did not zip** your file.\n",
    "3. you **pushed your files to your ARTEMIS branch.**\n",
    "4. you **did not change the variable names** provided by us within the template.\n",
    "5. your submitted files can be run in a Docker/Anaconda environment (Python 3.7 at least) with the packages provided by the requirements.txt in the aima repository, the utils.py, the search.py and the csp_programming_exercise.py\n",
    "provided by us **within a reasonable time (under 5 minutes).**\n",
    "6. the problem has been modeled correctly using the NaryCSP class from the module\n",
    "csp programming exercise.\n",
    "7. similar to the other programming exercises, this is an individual project and you **must** finish the task on your own. (We will use a plagiarism detection tool and any copied code will annul all bonus exercises\n",
    "from both the copier and the copied person!)\n",
    "\n",
    "Submission will close on <b><font color='red'>Friday, 16.12.2022 at 23:59</font></b>. Your solution will be graded by ARTEMIS.\n",
    "There will be feedback on formatting errors and rightly solved CSP. Nonetheless, it is very important to\n",
    "follow the instructions exactly!\n",
    "\n",
    "We offer preliminary checks of your solution and ARTEMIS will show your progress. You can submit\n",
    "your solution multiple times and get feedback for each submission. Your final submission will be checked.\n",
    "We award 1 point if all checks including **the plagiarism check** pass.\n",
    "                                                                                         \n",
    "\n",
    "\n",
    "<div class=\"alert alert-info\">\n",
    "    <h3>Please read the following important information before starting with the programming exercise: </h3>\n",
    "    <p>In order to avoid problems with the relative file path we recommend to <b>place all provided files</b> in the root folder of your <b>aima repository</b>, if you use Anaconda environment.</p> \n",
    "    <p>Do not use/install any additional packages, which are not provided in the requirements.txt of the  <b>aima repository</b>. </p>\n",
    "    <p>For modeling the constraint satisfaction problem you will have to define some variables. <b>Do not change the names of variables that we provided you!</b> Since we use these variables for an automatic evaluation, changing variable names will result in failing the programming exercise. </p>\n",
    "    <p><b>Do not modify</b> the example with the TWO + TWO = FOUR problem!</p>\n",
    "    <p><b>Do not modify</b> the csp_programming_exercise.py!</p>\n",
    "    <p>If we are not able to run your submitted files in an environment with the packages provided by the requirements.txt of the <b>aima repository</b>, you will fail the programming exercise.</p>\n",
    "    \n",
    "</div>"
   ]
  },
  {
   "cell_type": "markdown",
   "id": "aef0029e",
   "metadata": {},
   "source": [
    "**Task Description**:\n",
    "\n",
    "You are the organizer of a water sports club, which provides 4 activities: **Stand-Up Paddle**, **Windsurf**, **Catamaran** and **Kayak**. Today, a group of 8 students arrived, namely `Anna, Barney, Claire, Davin, Elena, Freddy, Gloria and Henry`. They haven't decided which one to participate in and ask for your help."
   ]
  },
  {
   "cell_type": "markdown",
   "id": "26f7c28f",
   "metadata": {},
   "source": [
    "<img src=\"sports.jpg\" height=500>\n"
   ]
  },
  {
   "cell_type": "markdown",
   "id": "987de817",
   "metadata": {},
   "source": [
    "The information about the provided activities is listed below:\n",
    "\n",
    "\n",
    "|Activity| Person per boat/board | Price per boat/board |\n",
    "|--- |-----------------|----------------|\n",
    "|Stand-Up Paddle | 1               | 6€             |\n",
    "|Windsurf | 1               | 10€            |\n",
    "|Catamaran | 2               | 15€            |\n",
    "|Kayak | 2               | 10€            |\n",
    "\n",
    "Note that:\n",
    "1) These are merely 4 programs planned, which don't necessarily have to all take place. Which program(s) is/are actually going to take place depend(s) on the given constraints.\n",
    "2) Odd-numbered participants can also take part in Catamaran and Kayak, which means they will share the boat with strangers and pay half of the price.\n",
    "3) Every student can take part in **at most** 1 program. Students would be assigned to the program they want to attend by default if there are no additional statements.\n",
    "4) Note that the price includes the cost of the whole equipment set.\n",
    "\n",
    "\n",
    "Now consider the following constraints:\n"
   ]
  },
  {
   "cell_type": "markdown",
   "id": "b49e51fc",
   "metadata": {},
   "source": [
    "#### Constraints:\n",
    "\n",
    "1. Elena and Freddy are good friends. They want to participate in a program where they can share a boat.\n",
    "2. None of them want to share a boat with strangers.\n",
    "3. Stand-up paddle is popular today, so there are only 3 spaces left.\n",
    "4. Barney doesn’t know how to swim, so he doesn’t want to be in a program alone, otherwise he won't attend any program.\n",
    "5. Elena and Gloria are good friends, such that they want to attend the same program or not attend any program.\n",
    "6. Davin has a great passion for kayaking, so he either chooses kayak or nothing.\n",
    "7. If Henry participates in a program, he is okay with any of them, except stand-up paddle.\n",
    "8. Freddy neither wants to be in the same program as Henry nor stay on the shore together with him.\n",
    "9. Anna wants to go either windsurfing or catamaran sailing. Otherwise, she will not attend any program.\n",
    "10. Barney chooses to sail catamarans, and Claire is willing to teach him and join the same program.\n",
    "11. The group has a limited budget so the total cost cannot exceed 60 €.\n",
    "12. Anna, Davin, and Henry want to be together in the same activity, otherwise they are all willing to wait on shore.\n",
    "13. Davin chooses to play SUP with his dog, but Elena is afraid of dogs, so she cannot join him.\n",
    "14. No one wants to participate in an activity alone from the group. Otherwise, they don't participate in any activities.\n",
    "15. If the group wants to attend windsurfing, they need to join a course with an instructor, which requires at least 3 participants to start.\n",
    "16. The group wants to experience as much as possible, they wish to participate in at least 3 programs."
   ]
  },
  {
   "cell_type": "markdown",
   "id": "51236db1",
   "metadata": {},
   "source": [
    "Model the constraint satisfaction problem in Python. For each of the following subsets of constraints, find the solution, if it exists:\n",
    "\n",
    "Problem 2.1: { 1 - 7, 9 - 11, 14, 15}\\\n",
    "Problem 2.2: { 7 - 16 }\\\n",
    "Problem 2.3: { 1 - 3, 5, 7, 11, 12, 16 } \\\n",
    "Problem 2.4: { 1, 4, 5, 11 - 16 }\\\n",
    "Problem 2.5: { 2 - 12, 15 }\\\n",
    "Problem 2.6: { 1 - 11, 14 }\n",
    "\n",
    "Note that not all problems can be satisfied."
   ]
  },
  {
   "cell_type": "markdown",
   "id": "1485091f",
   "metadata": {},
   "source": [
    "### Initialization"
   ]
  },
  {
   "cell_type": "code",
   "execution_count": 47,
   "id": "6f0c6521",
   "metadata": {},
   "outputs": [],
   "source": [
    "# Do not change this part.\n",
    "import warnings\n",
    "warnings.filterwarnings('ignore')\n",
    "\n",
    "import sys\n",
    "import pathlib\n",
    "sys.path.append(pathlib.Path().absolute())\n",
    "from csp_programming_exercise import *"
   ]
  },
  {
   "cell_type": "markdown",
   "id": "2890ffe4",
   "metadata": {},
   "source": [
    "### Constructing the Domain"
   ]
  },
  {
   "cell_type": "code",
   "execution_count": 48,
   "id": "8279f61a",
   "metadata": {},
   "outputs": [],
   "source": [
    "# Define your domain here\n",
    "### YOUR CODE HERE ###\n",
    "# use 0-3 to represent Stand-Up Paddle, Windsurf, Catamaran and Kayak\n",
    "# use 4 to represent not attend any program.\n",
    "domains = {\n",
    "\n",
    "'A': set(range(0, 5)),\n",
    "'B': set(range(0, 5)),\n",
    "'C': set(range(0, 5)),\n",
    "'D': set(range(0, 5)),\n",
    "'E': set(range(0, 5)),\n",
    "'F': set(range(0, 5)),\n",
    "'G': set(range(0, 5)), \n",
    "'H': set(range(0, 5)), \n",
    "\n",
    "}"
   ]
  },
  {
   "cell_type": "code",
   "execution_count": 49,
   "id": "8e10cc73",
   "metadata": {},
   "outputs": [
    {
     "data": {
      "text/plain": [
       "{'A': {0, 1, 2, 3, 4},\n",
       " 'B': {0, 1, 2, 3, 4},\n",
       " 'C': {0, 1, 2, 3, 4},\n",
       " 'D': {0, 1, 2, 3, 4},\n",
       " 'E': {0, 1, 2, 3, 4},\n",
       " 'F': {0, 1, 2, 3, 4},\n",
       " 'G': {0, 1, 2, 3, 4},\n",
       " 'H': {0, 1, 2, 3, 4}}"
      ]
     },
     "execution_count": 49,
     "metadata": {},
     "output_type": "execute_result"
    }
   ],
   "source": [
    "domains"
   ]
  },
  {
   "cell_type": "markdown",
   "id": "3a6388b2",
   "metadata": {},
   "source": [
    "### Constructing the Constraint Function"
   ]
  },
  {
   "cell_type": "code",
   "execution_count": 50,
   "id": "322fd774",
   "metadata": {},
   "outputs": [],
   "source": [
    "### constraint 1 Elena and Freddy are good friends. They want to participate in a program where they can share a boat\n",
    "def elena_freddy(*args):\n",
    "    if args[0] == args[1] == 2:\n",
    "        return True\n",
    "    if args[0] == args[1] == 3:\n",
    "        return True\n",
    "    return False"
   ]
  },
  {
   "cell_type": "code",
   "execution_count": 51,
   "id": "bb8e8189",
   "metadata": {},
   "outputs": [],
   "source": [
    "### constraint 2 None of them want to share a boat with strangers.\n",
    "def strangers(*args):\n",
    "    Catamaran = 0\n",
    "    Kayak = 0\n",
    "    for arg in args:\n",
    "        if arg == 2:\n",
    "            Catamaran = Catamaran + 1\n",
    "        if arg == 3:\n",
    "            Kayak = Kayak + 1\n",
    "    if Catamaran % 2 == 0 and Kayak % 2 ==0:\n",
    "        return True\n",
    "    else:\n",
    "        return False    "
   ]
  },
  {
   "cell_type": "code",
   "execution_count": 52,
   "id": "a8ad47c8",
   "metadata": {},
   "outputs": [],
   "source": [
    "###  constraint 3 Stand-up paddle is popular today, so there are only 3 spaces left.\n",
    "def paddle(*args):\n",
    "    Paddle = 0\n",
    "    for arg in args:  \n",
    "        if arg == 0:\n",
    "            Paddle = Paddle + 1\n",
    "    if Paddle > 3:\n",
    "        return False   \n",
    "    else:\n",
    "        return True  "
   ]
  },
  {
   "cell_type": "code",
   "execution_count": 53,
   "id": "b3414231",
   "metadata": {},
   "outputs": [],
   "source": [
    "###  constraint 4 Barney doesn’t know how to swim, so he doesn’t want to be in a program alone, otherwise he won’t attend any program.\n",
    "def barney(*args):\n",
    "    bar = args [1]\n",
    "    count = 0\n",
    "    if bar == 0 or bar == 1:\n",
    "        return False\n",
    "    for arg in args:\n",
    "        if arg == bar:\n",
    "            count = count +1\n",
    "    if count > 1:\n",
    "        return True\n",
    "    return False\n",
    "    # bar = args [1]\n",
    "    # if bar == 0 or bar == 1:\n",
    "    #     return False\n",
    "    # return True"
   ]
  },
  {
   "cell_type": "code",
   "execution_count": 54,
   "id": "97062879",
   "metadata": {},
   "outputs": [],
   "source": [
    "### constraint 5 Elena and Gloria are good friends, such that they want to attend the same program or not attend any program.\n",
    "## just use eq\n",
    "def elena_gloria(*args):\n",
    "    if args[0]==args[1]:\n",
    "        return True\n",
    "    else:\n",
    "        return False"
   ]
  },
  {
   "cell_type": "code",
   "execution_count": 55,
   "id": "7f1fd56b",
   "metadata": {},
   "outputs": [],
   "source": [
    "### constraint 6 Davin has a great passion for kayaking, so he either chooses kayak or nothing.\n",
    "def davin(*args):\n",
    "    if args[0]==3 or args[0]==4:\n",
    "        return True\n",
    "    else:\n",
    "        return False"
   ]
  },
  {
   "cell_type": "code",
   "execution_count": 56,
   "id": "7b023a29",
   "metadata": {},
   "outputs": [],
   "source": [
    "### constraint 7 If Henry participates in a program, he is okay with any of them, except stand-up paddle.\n",
    "def henry(*args):    \n",
    "    if args[0]!=0:\n",
    "        return True\n",
    "    return False"
   ]
  },
  {
   "cell_type": "code",
   "execution_count": 57,
   "id": "74c343d9",
   "metadata": {},
   "outputs": [],
   "source": [
    "### constraint 8 Freddy neither wants to be in the same program as Henry nor stay on the shore together with him.\n",
    "def freddy_henry(*args):\n",
    "    \n",
    "    if args[0]== args[1]:\n",
    "        return False\n",
    "    else:\n",
    "        return True"
   ]
  },
  {
   "cell_type": "code",
   "execution_count": 58,
   "id": "e75b01f5",
   "metadata": {},
   "outputs": [],
   "source": [
    "### constraint 9 Anna wants to go either windsurfing or catamaran sailing. Otherwise, she will not attend any progra\n",
    "def anna(*args):\n",
    "    # print(args[0])\n",
    "    \n",
    "    if  args[0] != 0 and args[0] != 3:\n",
    "        return True\n",
    "    else:\n",
    "        return False"
   ]
  },
  {
   "cell_type": "code",
   "execution_count": 59,
   "id": "7eac8bc1",
   "metadata": {},
   "outputs": [],
   "source": [
    "### constraint 10 Barney chooses to sail catamarans, and Claire is willing to teach him and join the same program.\n",
    "def barney_claire(*args):\n",
    "    # if  args[0] == args[1] == 0:\n",
    "    #     return False\n",
    "    # if  args[0] == args[1] == 1:\n",
    "    #     return False\n",
    "    # if  args[0] == args[1] == 3:\n",
    "    #     return False\n",
    "\n",
    "    if  args[0] == args[1] == 2:\n",
    "        return True\n",
    "    else:\n",
    "        return False"
   ]
  },
  {
   "cell_type": "code",
   "execution_count": 60,
   "id": "01d373e1",
   "metadata": {},
   "outputs": [],
   "source": [
    "# print(barney_claire((2,2]))\n"
   ]
  },
  {
   "cell_type": "code",
   "execution_count": 61,
   "id": "2968e192",
   "metadata": {},
   "outputs": [],
   "source": [
    "### constraint 11 The group has a limited budget so the total cost cannot exceed 60 €.\n",
    "def budget(*args):\n",
    "    cost = 0\n",
    "    for arg in args:\n",
    "        if arg == 0:\n",
    "            cost = cost + 6\n",
    "        if arg == 1:\n",
    "            cost = cost + 10\n",
    "        if arg == 2:\n",
    "            cost = cost + 7.5\n",
    "        if arg == 3:\n",
    "            cost = cost +5\n",
    "        if arg == 4:\n",
    "            cost = cost +0\n",
    "    # print(cost)\n",
    "    if cost > 60:\n",
    "        return False\n",
    "    else:\n",
    "        return True\n",
    "    "
   ]
  },
  {
   "cell_type": "code",
   "execution_count": 62,
   "id": "cf19a46a",
   "metadata": {},
   "outputs": [],
   "source": [
    "### constraint 12 Anna, Davin, and Henry want to be together in the same activity, otherwise they are all willing to wait on shore.\n",
    "def anna_davin_henry(*args):\n",
    "#     list1 = [args[0],args[1],args[2] ]\n",
    "#     set1 = set(list1)\n",
    "#     if len(set1)==1 :\n",
    "#         return True\n",
    "#     if len(set1)== 2 and (4 in set1):\n",
    "#         return True\n",
    "#     return False\n",
    "    if args[0]==args[1] ==args[2] :\n",
    "        return True\n",
    "    else:\n",
    "        return False"
   ]
  },
  {
   "cell_type": "code",
   "execution_count": 63,
   "id": "6f99b4f0",
   "metadata": {},
   "outputs": [],
   "source": [
    "### constraint 13 Davin chooses to play SUP with his dog, but Elena is afraid of dogs, so she cannot join him.\n",
    "def davin_elena(*args):\n",
    "    if args[0]==0 and args[1]!= 0:\n",
    "        return True\n",
    "    else:\n",
    "        return False\n"
   ]
  },
  {
   "cell_type": "code",
   "execution_count": 64,
   "id": "8547f293",
   "metadata": {},
   "outputs": [],
   "source": [
    "## constraint 14 No one wants to participate in an activity alone from the group. Otherwise, they don’t participate in any activities.\n",
    "def alone(*args):\n",
    "    Paddle = 0\n",
    "    Windsurf = 0\n",
    "    Catamaran = 0\n",
    "    Kayak = 0\n",
    "    for arg in args:\n",
    "        if arg == 0:\n",
    "            Paddle = Paddle +1\n",
    "        if arg == 1:\n",
    "            Windsurf = Windsurf +1\n",
    "        if arg == 2: \n",
    "            Catamaran = Catamaran +1\n",
    "        if arg == 3: \n",
    "            Kayak = Kayak +1\n",
    "#     print(Paddle+Windsurf+Catamaran+Kayak)\n",
    "    if (Paddle != 1) and (Windsurf  != 1) and (Catamaran  != 1) and (Kayak  != 1):\n",
    "        return True\n",
    "    else:\n",
    "        return False  "
   ]
  },
  {
   "cell_type": "code",
   "execution_count": 65,
   "id": "efd4c99a",
   "metadata": {},
   "outputs": [],
   "source": [
    "### constraint 15 If the group wants to attend windsurfing, they need to join a course with an instructor, which requires at least 3 participants to start.\n",
    "def windsurf(*args):\n",
    "    Windsurf = 0\n",
    "    for arg in args:\n",
    "        if arg == 1:\n",
    "            Windsurf = Windsurf +1\n",
    "    if Windsurf == 0 or Windsurf >= 3:\n",
    "        return True \n",
    "    else:\n",
    "        return False\n",
    "    \n",
    "    "
   ]
  },
  {
   "cell_type": "code",
   "execution_count": 66,
   "id": "ce58ed61",
   "metadata": {},
   "outputs": [],
   "source": [
    "### constraint 16 The group wants to experience as much as possible, they wish to participate in at least 3 programs.\n",
    "def program(*args):\n",
    "    Paddle = 0\n",
    "    Windsurf = 0\n",
    "    Catamaran = 0\n",
    "    Kayak = 0\n",
    "    for arg in args:\n",
    "        if (not Paddle) and arg == 0:\n",
    "            Paddle = 1\n",
    "        if (not Windsurf) and arg == 1:\n",
    "            Windsurf = 1\n",
    "        if (not Catamaran) and arg == 2: \n",
    "            Catamaran = 1\n",
    "        if (not Kayak)and arg == 3: \n",
    "            Kayak = 1\n",
    "    \n",
    "    if (Paddle+Windsurf+Catamaran+Kayak)<3:\n",
    "        return False\n",
    "    else: \n",
    "        return True  "
   ]
  },
  {
   "cell_type": "markdown",
   "id": "4028d936",
   "metadata": {},
   "source": [
    "### Constructing the Constraints: Organizing Water Sports"
   ]
  },
  {
   "cell_type": "code",
   "execution_count": 67,
   "id": "f7f1a570",
   "metadata": {},
   "outputs": [],
   "source": [
    "# Define your constraints here\n",
    "### YOUR CODE HERE ###\n",
    "constraint1 = Constraint(('E', 'F'), lambda e, f:elena_freddy(e,f) )\n",
    "constraint2 = Constraint(('A','B','C','D','E','F','G','H'), lambda a,b,c,d,e,f,g,h: strangers(a,b,c,d,e,f,g,h))\n",
    "constraint3 = Constraint(('A','B','C','D','E','F','G','H'), lambda a,b,c,d,e,f,g,h: paddle(a,b,c,d,e,f,g,h))\n",
    "constraint4 = Constraint(('A','B','C','D','E','F','G','H'), lambda  a,b,c,d,e,f,g,h: barney(a,b,c,d,e,f,g,h))\n",
    "# constraint4 = Constraint(('B'), lambda b :barney(b))\n",
    "constraint5 = Constraint(('E', 'G'), lambda e,g:elena_gloria(e,g))\n",
    "constraint6 = Constraint(('D'),lambda d:davin(d))\n",
    "constraint7 = Constraint(('H'),lambda h:henry(h))\n",
    "constraint8 = Constraint(('F', 'H'), lambda f,h: freddy_henry(f,h))\n",
    "constraint9 = Constraint(('A'), lambda a: anna(a))\n",
    "constraint10 = Constraint(('B', 'C'), lambda b,c: barney_claire(b,c))\n",
    "constraint11 = Constraint(('A','B','C','D','E','F','G','H'), lambda a,b,c,d,e,f,g,h: budget(a,b,c,d,e,f,g,h))\n",
    "constraint12 = Constraint(('A', 'D', 'H'), lambda a, d, h: anna_davin_henry(a,d,h))\n",
    "constraint13 = Constraint(('D', 'E'), lambda d,e: davin_elena(d,e))\n",
    "constraint14 = Constraint(('A','B','C','D','E','F','G','H'), lambda a,b,c,d,e,f,g,h: alone(a,b,c,d,e,f,g,h))\n",
    "constraint15 = Constraint(('A','B','C','D','E','F','G','H'), lambda a,b,c,d,e,f,g,h: windsurf(a,b,c,d,e,f,g,h))\n",
    "constraint16 = Constraint(('A','B','C','D','E','F','G','H'), lambda a,b,c,d,e,f,g,h: program(a,b,c,d,e,f,g,h))\n"
   ]
  },
  {
   "cell_type": "markdown",
   "id": "a3f9a927",
   "metadata": {},
   "source": [
    "### Combine the constraints and set up the CSPs for the different problems\n",
    "<div class=\"alert alert-danger\">\n",
    "    <p>The variables csp_1, csp_2, csp_3, csp_4, csp_5,csp_6 are defined for setting up the CSPs for the corresponding problems. <b>You have to use these variable names otherwise this will result in failing the programming exercise.</b></p> \n",
    "</div>"
   ]
  },
  {
   "cell_type": "code",
   "execution_count": 68,
   "id": "1bdfabba",
   "metadata": {},
   "outputs": [],
   "source": [
    "# Construct the Organizing Water Sports Problems\n",
    "\n",
    "# Combine Constraints and set up the csp for Problem 2.1\n",
    "### YOUR CODE HERE ###\n",
    "#{ 1 - 7, 9 - 11, 14, 15 }\n",
    "csp_1 = NaryCSP(domains, [constraint1, constraint2, constraint3, constraint4, constraint5, constraint6, constraint7, constraint9, constraint10, constraint11, constraint14, constraint15]) \n",
    "\n",
    "\n",
    "# Combine Constraints and set up the csp for Problem 2.2\n",
    "### YOUR CODE HERE ###\n",
    "#{ 7 - 16 } 9,12,13不兼容\n",
    "csp_2 = NaryCSP(domains, [constraint7, constraint8, constraint9, constraint10, constraint11, constraint12, constraint13, constraint14, constraint15, constraint16]) \n",
    "\n",
    "\n",
    "\n",
    "# Combine Constraints and set up the csp for Problem 2.3\n",
    "### YOUR CODE HERE ###\n",
    "#{ 1 - 3, 5, 7, 11, 12, 16 }\n",
    "csp_3 = NaryCSP(domains, [constraint1, constraint2, constraint3, constraint5, constraint7, constraint11, constraint12, constraint16]) \n",
    "\n",
    "\n",
    "# Combine Constraints and set up the csp for Problem 2.4\n",
    "### YOUR CODE HERE ###\n",
    "#{ 1, 4, 5, 11 - 16 }\n",
    "csp_4 = NaryCSP(domains, [constraint1, constraint4, constraint5,  constraint11, constraint12, constraint13, constraint14, constraint15, constraint16]) \n",
    "\n",
    "\n",
    "# Combine Constraints and set up the csp for Problem 2.5\n",
    "### YOUR CODE HERE ###\n",
    "#{ 2 - 12, 15 }\n",
    "csp_5 = NaryCSP(domains, [constraint2, constraint3, constraint4, constraint5, constraint6, constraint7, constraint8,constraint9, constraint10, constraint11, constraint12, constraint15]) \n",
    "\n",
    "\n",
    "# Combine Constraints and set up the csp for Problem 2.6\n",
    "### YOUR CODE HERE ###\n",
    "#{ 1 - 11, 14 }\n",
    "csp_6 =NaryCSP(domains, [constraint1, constraint2, constraint3, constraint4, constraint5, constraint6, constraint7, constraint8,constraint9, constraint10, constraint11, constraint14]) \n"
   ]
  },
  {
   "cell_type": "markdown",
   "id": "58c47699",
   "metadata": {},
   "source": [
    "### Solving the CSP\n",
    "<div class=\"alert alert-danger\">\n",
    "    <p>Do not change the following cell. If you can't execute the following cell, you may have renamed the variables defined by us.</p> \n",
    "</div>"
   ]
  },
  {
   "cell_type": "code",
   "execution_count": 69,
   "id": "a2a6e153",
   "metadata": {
    "pycharm": {
     "is_executing": true
    },
    "scrolled": true
   },
   "outputs": [
    {
     "name": "stdout",
     "output_type": "stream",
     "text": [
      "{'A': 4, 'B': 2, 'C': 2, 'D': 4, 'E': 3, 'F': 3, 'G': 3, 'H': 3}\n",
      "None\n",
      "{'A': 3, 'B': 1, 'C': 0, 'D': 3, 'E': 3, 'F': 3, 'G': 3, 'H': 3}\n",
      "{'A': 0, 'B': 3, 'C': 3, 'D': 0, 'E': 2, 'F': 2, 'G': 2, 'H': 0}\n",
      "{'A': 4, 'B': 2, 'C': 2, 'D': 4, 'E': 4, 'F': 0, 'G': 4, 'H': 4}\n",
      "{'A': 4, 'B': 2, 'C': 2, 'D': 3, 'E': 3, 'F': 3, 'G': 3, 'H': 4}\n"
     ]
    }
   ],
   "source": [
    "# Do not change this part\n",
    "print(ac_search_solver(csp_1))\n",
    "print(ac_search_solver(csp_2))\n",
    "print(ac_search_solver(csp_3))\n",
    "print(ac_search_solver(csp_4))\n",
    "print(ac_search_solver(csp_5))\n",
    "print(ac_search_solver(csp_6))"
   ]
  },
  {
   "cell_type": "code",
   "execution_count": null,
   "id": "78c2c9ce",
   "metadata": {},
   "outputs": [],
   "source": []
  }
 ],
 "metadata": {
  "kernelspec": {
   "display_name": "Python 3 (ipykernel)",
   "language": "python",
   "name": "python3"
  },
  "language_info": {
   "codemirror_mode": {
    "name": "ipython",
    "version": 3
   },
   "file_extension": ".py",
   "mimetype": "text/x-python",
   "name": "python",
   "nbconvert_exporter": "python",
   "pygments_lexer": "ipython3",
   "version": "3.8.3"
  },
  "vscode": {
   "interpreter": {
    "hash": "200bb1c9ca1c58cd30ea08a6721bb56c50c67c0718614989610ef60928da5f99"
   }
  }
 },
 "nbformat": 4,
 "nbformat_minor": 5
}
